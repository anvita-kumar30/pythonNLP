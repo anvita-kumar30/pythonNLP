{
 "cells": [
  {
   "cell_type": "code",
   "execution_count": 12,
   "id": "e7d71122",
   "metadata": {},
   "outputs": [
    {
     "name": "stdout",
     "output_type": "stream",
     "text": [
      "['sample', 'sentence', ',', 'showing', 'stop', 'words', 'filtration', '.']\n"
     ]
    },
    {
     "name": "stderr",
     "output_type": "stream",
     "text": [
      "[nltk_data] Downloading package punkt to /home/admini/nltk_data...\n",
      "[nltk_data]   Package punkt is already up-to-date!\n",
      "[nltk_data] Downloading package stopwords to /home/admini/nltk_data...\n",
      "[nltk_data]   Package stopwords is already up-to-date!\n"
     ]
    }
   ],
   "source": [
    "import nltk\n",
    "from nltk.corpus import stopwords\n",
    "from nltk.tokenize import word_tokenize\n",
    "\n",
    "nltk.download('punkt')\n",
    "nltk.download('stopwords')\n",
    "\n",
    "text = \"This is a sample sentence, showing off the stop words filtration.\"\n",
    "stop_words = set(stopwords.words('english'))\n",
    "\n",
    "word_tokens = word_tokenize(text)\n",
    "\n",
    "filtered_sentence = [w for w in word_tokens if not w.lower() in stop_words]\n",
    "\n",
    "print(filtered_sentence)"
   ]
  },
  {
   "cell_type": "code",
   "execution_count": 13,
   "id": "29ef3f45",
   "metadata": {},
   "outputs": [
    {
     "name": "stdout",
     "output_type": "stream",
     "text": [
      "the stripe bat be hang on their foot for good\n"
     ]
    }
   ],
   "source": [
    "import spacy\n",
    "\n",
    "nlp = spacy.load('en_core_web_sm')\n",
    "text = \"The striped bats are hanging on their feet for best\"\n",
    "doc = nlp(text)\n",
    "\n",
    "lemmatized_sentence = \" \".join([token.lemma_ for token in doc])\n",
    "\n",
    "print(lemmatized_sentence)"
   ]
  },
  {
   "cell_type": "code",
   "execution_count": 14,
   "id": "eadac5aa",
   "metadata": {},
   "outputs": [
    {
     "name": "stdout",
     "output_type": "stream",
     "text": [
      "['run', 'runner', 'run']\n"
     ]
    }
   ],
   "source": [
    "from nltk.stem import PorterStemmer\n",
    "from nltk.tokenize import word_tokenize\n",
    "\n",
    "ps = PorterStemmer()\n",
    "text = \"running runner runs\"\n",
    "words = word_tokenize(text)\n",
    "\n",
    "stemmed_words = [ps.stem(word) for word in words]\n",
    "\n",
    "print(stemmed_words)"
   ]
  },
  {
   "cell_type": "code",
   "execution_count": 15,
   "id": "43b08c0c",
   "metadata": {},
   "outputs": [
    {
     "name": "stdout",
     "output_type": "stream",
     "text": [
      "Hello This is a sample text with numbers  and special characters \n"
     ]
    }
   ],
   "source": [
    "import re\n",
    "\n",
    "text = \"Hello!!! This is a sample text with numbers 12345 and special characters #@$%^&*().\"\n",
    "cleaned_text = re.sub(r'[^a-zA-Z\\s]', '', text)\n",
    "\n",
    "print(cleaned_text)"
   ]
  },
  {
   "cell_type": "code",
   "execution_count": 16,
   "id": "20a99c50",
   "metadata": {},
   "outputs": [
    {
     "name": "stdout",
     "output_type": "stream",
     "text": [
      "Detected Language: fr\n",
      "Detected Languages with Probabilities: [fr:0.999996196732605]\n"
     ]
    }
   ],
   "source": [
    "from langdetect import detect, detect_langs\n",
    "\n",
    "# Sample text\n",
    "text = \"Bonjour tout le monde\"\n",
    "\n",
    "# Detect language\n",
    "detected_language = detect(text)\n",
    "print(\"Detected Language:\", detected_language)\n",
    "\n",
    "# Detect languages with probabilities\n",
    "detected_languages = detect_langs(text)\n",
    "print(\"Detected Languages with Probabilities:\", detected_languages)"
   ]
  },
  {
   "cell_type": "code",
   "execution_count": 17,
   "id": "f855a2a5",
   "metadata": {},
   "outputs": [
    {
     "name": "stdout",
     "output_type": "stream",
     "text": [
      "[REDACTED] phone number is 123-456-7890 and he lives at 123 Main St.\n"
     ]
    }
   ],
   "source": [
    "import spacy\n",
    "\n",
    "nlp = spacy.load('en_core_web_sm')\n",
    "text = \"John Doe's phone number is 123-456-7890 and he lives at 123 Main St.\"\n",
    "doc = nlp(text)\n",
    "\n",
    "anonymized_text = text\n",
    "for ent in doc.ents:\n",
    "    if ent.label_ in ['PERSON', 'GPE', 'LOC', 'ORG']:\n",
    "        anonymized_text = anonymized_text.replace(ent.text, '[REDACTED]')\n",
    "\n",
    "print(anonymized_text)"
   ]
  }
 ],
 "metadata": {
  "kernelspec": {
   "display_name": "Python 3 (ipykernel)",
   "language": "python",
   "name": "python3"
  },
  "language_info": {
   "codemirror_mode": {
    "name": "ipython",
    "version": 3
   },
   "file_extension": ".py",
   "mimetype": "text/x-python",
   "name": "python",
   "nbconvert_exporter": "python",
   "pygments_lexer": "ipython3",
   "version": "3.10.12"
  }
 },
 "nbformat": 4,
 "nbformat_minor": 5
}
