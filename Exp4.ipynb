{
  "nbformat": 4,
  "nbformat_minor": 0,
  "metadata": {
    "colab": {
      "provenance": []
    },
    "kernelspec": {
      "name": "python3",
      "display_name": "Python 3"
    },
    "language_info": {
      "name": "python"
    }
  },
  "cells": [
    {
      "cell_type": "code",
      "execution_count": 1,
      "metadata": {
        "colab": {
          "base_uri": "https://localhost:8080/"
        },
        "id": "XN2tqwsGZH73",
        "outputId": "6cecc0f6-669a-444d-c2a2-7e266f270758"
      },
      "outputs": [
        {
          "output_type": "stream",
          "name": "stderr",
          "text": [
            "[nltk_data] Downloading package punkt to /root/nltk_data...\n",
            "[nltk_data]   Unzipping tokenizers/punkt.zip.\n"
          ]
        },
        {
          "output_type": "stream",
          "name": "stdout",
          "text": [
            "['sample', 'sentence', ',', 'showing', 'stop', 'words', 'filtration', '.']\n"
          ]
        },
        {
          "output_type": "stream",
          "name": "stderr",
          "text": [
            "[nltk_data] Downloading package stopwords to /root/nltk_data...\n",
            "[nltk_data]   Unzipping corpora/stopwords.zip.\n"
          ]
        }
      ],
      "source": [
        "import nltk\n",
        "from nltk.corpus import stopwords\n",
        "from nltk.tokenize import word_tokenize\n",
        "\n",
        "nltk.download('punkt')\n",
        "nltk.download('stopwords')\n",
        "\n",
        "text = \"This is a sample sentence, showing off the stop words filtration.\"\n",
        "stop_words = set(stopwords.words('english'))\n",
        "\n",
        "word_tokens = word_tokenize(text)\n",
        "\n",
        "filtered_sentence = [w for w in word_tokens if not w.lower() in stop_words]\n",
        "\n",
        "print(filtered_sentence)"
      ]
    },
    {
      "cell_type": "code",
      "source": [
        "import spacy\n",
        "\n",
        "nlp = spacy.load('en_core_web_sm')\n",
        "text = \"The striped bats are hanging on their feet for best\"\n",
        "doc = nlp(text)\n",
        "\n",
        "lemmatized_sentence = \" \".join([token.lemma_ for token in doc])\n",
        "\n",
        "print(lemmatized_sentence)"
      ],
      "metadata": {
        "colab": {
          "base_uri": "https://localhost:8080/"
        },
        "id": "DlTlJ0LMZZwI",
        "outputId": "960e3c67-7161-4087-b23e-2332ee3996c2"
      },
      "execution_count": 2,
      "outputs": [
        {
          "output_type": "stream",
          "name": "stdout",
          "text": [
            "the stripe bat be hang on their foot for good\n"
          ]
        }
      ]
    },
    {
      "cell_type": "code",
      "source": [
        "from nltk.stem import PorterStemmer\n",
        "from nltk.tokenize import word_tokenize\n",
        "\n",
        "ps = PorterStemmer()\n",
        "text = \"running runner runs\"\n",
        "words = word_tokenize(text)\n",
        "\n",
        "stemmed_words = [ps.stem(word) for word in words]\n",
        "\n",
        "print(stemmed_words)"
      ],
      "metadata": {
        "colab": {
          "base_uri": "https://localhost:8080/"
        },
        "id": "M1IO7VZ_ZeaJ",
        "outputId": "974bd1fd-0ca6-4b9c-89a2-68e64e0ea445"
      },
      "execution_count": 3,
      "outputs": [
        {
          "output_type": "stream",
          "name": "stdout",
          "text": [
            "['run', 'runner', 'run']\n"
          ]
        }
      ]
    },
    {
      "cell_type": "code",
      "source": [
        "import re\n",
        "\n",
        "text = \"Hello!!! This is a sample text with numbers 12345 and special characters #@$%^&*().\"\n",
        "cleaned_text = re.sub(r'[^a-zA-Z\\s]', '', text)\n",
        "\n",
        "print(cleaned_text)"
      ],
      "metadata": {
        "colab": {
          "base_uri": "https://localhost:8080/"
        },
        "id": "uLAAGP2VZkLd",
        "outputId": "5cb7de9e-eb20-4652-d5f8-109e46d923be"
      },
      "execution_count": 4,
      "outputs": [
        {
          "output_type": "stream",
          "name": "stdout",
          "text": [
            "Hello This is a sample text with numbers  and special characters \n"
          ]
        }
      ]
    },
    {
      "cell_type": "code",
      "source": [
        "from langdetect import detect, detect_langs\n",
        "\n",
        "# Sample text\n",
        "text = \"Bonjour tout le monde\"\n",
        "\n",
        "# Detect language\n",
        "detected_language = detect(text)\n",
        "print(\"Detected Language:\", detected_language)\n",
        "\n",
        "# Detect languages with probabilities\n",
        "detected_languages = detect_langs(text)\n",
        "print(\"Detected Languages with Probabilities:\", detected_languages)"
      ],
      "metadata": {
        "colab": {
          "base_uri": "https://localhost:8080/"
        },
        "id": "LYCnQpZIZnae",
        "outputId": "da42cd46-b365-40b9-c4a1-4ada41018c3a"
      },
      "execution_count": 7,
      "outputs": [
        {
          "output_type": "stream",
          "name": "stdout",
          "text": [
            "Detected Language: fr\n",
            "Detected Languages with Probabilities: [fr:0.9999958412778336]\n"
          ]
        }
      ]
    },
    {
      "cell_type": "code",
      "source": [
        "import spacy\n",
        "\n",
        "nlp = spacy.load('en_core_web_sm')\n",
        "text = \"John Doe's phone number is 123-456-7890 and he lives at 123 Main St.\"\n",
        "doc = nlp(text)\n",
        "\n",
        "anonymized_text = text\n",
        "for ent in doc.ents:\n",
        "    if ent.label_ in ['PERSON', 'GPE', 'LOC', 'ORG']:\n",
        "        anonymized_text = anonymized_text.replace(ent.text, '[REDACTED]')\n",
        "\n",
        "print(anonymized_text)"
      ],
      "metadata": {
        "colab": {
          "base_uri": "https://localhost:8080/"
        },
        "id": "HNqrrewwaCLS",
        "outputId": "f6620a5e-f537-42ce-a2fb-19075b3aecb5"
      },
      "execution_count": 8,
      "outputs": [
        {
          "output_type": "stream",
          "name": "stdout",
          "text": [
            "[REDACTED] phone number is 123-456-7890 and he lives at 123 Main St.\n"
          ]
        }
      ]
    }
  ]
}